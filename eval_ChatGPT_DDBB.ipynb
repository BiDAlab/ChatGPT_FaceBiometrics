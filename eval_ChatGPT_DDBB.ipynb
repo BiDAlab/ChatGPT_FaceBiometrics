{
 "cells": [
  {
   "cell_type": "code",
   "execution_count": null,
   "metadata": {},
   "outputs": [],
   "source": [
    "import base64\n",
    "import requests\n",
    "\n",
    "import pandas as pd\n",
    "from glob import glob\n",
    "import time\n",
    "import pickle"
   ]
  },
  {
   "cell_type": "code",
   "execution_count": null,
   "metadata": {},
   "outputs": [],
   "source": [
    "# Function to encode the image\n",
    "def encode_image(image_path):\n",
    "  with open(image_path, \"rb\") as image_file:\n",
    "    return base64.b64encode(image_file.read()).decode('utf-8')"
   ]
  },
  {
   "cell_type": "code",
   "execution_count": null,
   "metadata": {},
   "outputs": [],
   "source": [
    "model = \"gpt-4-vision-preview\"\n",
    "\n",
    "max_tokens = 1000\n",
    "detail = \"high\"\n",
    "\n",
    "path_openai_API_key = r\"path/to/your/API/key\" #For Example: 'C:\\Users\\Ivan\\Documents\\Test-Key-GPT.txt'\n",
    "ddbb = r'DDBB/to/evaluate/path/.csv' # For Example: r'comparisons\\agedb_comparison_1000_balanced.csv'"
   ]
  },
  {
   "cell_type": "code",
   "execution_count": null,
   "metadata": {},
   "outputs": [],
   "source": [
    "with open(path_openai_API_key, 'r') as file:\n",
    "    api_key = file.read().replace('\\n', '') # Change directly for the api key if you don't want to use a file"
   ]
  },
  {
   "cell_type": "code",
   "execution_count": null,
   "metadata": {},
   "outputs": [],
   "source": [
    "prompt_face_recog = \"I will give you two images. I want you to tell me if they are from the same identity or not. Answer with yes or no only. Give me a number between 0 and 100 representing how sure you are of your response. Try not to give exactly 0 or 100.\""
   ]
  },
  {
   "cell_type": "code",
   "execution_count": null,
   "metadata": {},
   "outputs": [],
   "source": [
    "prompt_explainability = \"I will give you two images. I want you to tell me if they are from the same identity or not. Answer with yes or no only. Give me a number between 0 and 100 representing how sure you are of your response. Try not to give exactly 0 or 100. Tell me why you answer that.\""
   ]
  },
  {
   "cell_type": "code",
   "execution_count": null,
   "metadata": {},
   "outputs": [],
   "source": [
    "prompt_soft_bio = \"I will give you two images. I want you to tell me if they are from the same identity or not. Answer with yes or no only. Give me a number between 0 and 100 representing how sure you are of your response. Separate this number from the response with a line break. Try not to give exactly 0 or 100. Also for the next list of attributes, I want you to give me two lists representing whether the images in the cell have that attribute or not. Answer to me in a python-like list, containing the attributes that are present. The array of the left image is called left_array and the one from the right image is called righ_array. The list of attributes is: ['Male', 'Young', 'Middle_Aged', 'Senior','Asian', 'White', 'Black', 'Indian', 'Rosy_Cheeks', 'Shiny_Skin', 'Bald','Wavy_Hair', 'Receding_Hairline', 'Bangs', 'Sideburns', 'Black_Hair','Blond_Hair', 'Brown_Hair', 'Gray_Hair', 'No_Beard', 'Mustache','5_o_Clock_Shadow', 'Goatee', 'Oval_Face', 'Square_Face', 'Round_Face','Double_Chin', 'High_Cheekbones', 'Chubby', 'Obstructed_Forehead','Fully_Visible_Forehead', 'Brown_Eyes', 'Bags_Under_Eyes','Bushy_Eyebrows', 'Arched_Eyebrows', 'Mouth_Closed', 'Smiling','Big_Lips', 'Big_Nose', 'Pointy_Nose', 'Heavy_Makeup', 'Wearing_Hat','Wearing_Earrings', 'Wearing_Necktie', 'Wearing_Lipstick', 'No_Eyewear','Eyeglasses', 'Attractive']\""
   ]
  },
  {
   "cell_type": "code",
   "execution_count": null,
   "metadata": {},
   "outputs": [],
   "source": [
    "df = pd.read_csv(ddbb)\n",
    "print(df.shape)\n",
    "df.head()"
   ]
  },
  {
   "cell_type": "code",
   "execution_count": null,
   "metadata": {},
   "outputs": [],
   "source": [
    "responses = [] \n",
    "prompt = prompt_explainability # Change the prompt depending on the task\n",
    "headers = {\n",
    "  \"Content-Type\": \"application/json\",\n",
    "  \"Authorization\": f\"Bearer {api_key}\"\n",
    "}\n",
    "for img in df['combined_img']:\n",
    "    print(img)\n",
    "    base64_image = encode_image(img)\n",
    "\n",
    "    payload = {\n",
    "        \"model\": model,\n",
    "        \"messages\": [\n",
    "            {\"role\": \"system\", \"content\": prompt},\n",
    "            {\n",
    "            \"role\": \"user\",\n",
    "            \"content\": [\n",
    "                {\n",
    "                    \"type\": \"image_url\",\n",
    "                    \"image_url\": {\n",
    "                        \"url\": f\"data:image/jpeg;base64,{base64_image}\",\n",
    "                        \"detail\": detail\n",
    "                    }\n",
    "                }\n",
    "            ]\n",
    "            },\n",
    "        ],\n",
    "        \"max_tokens\": max_tokens\n",
    "    }\n",
    "\n",
    "    response = requests.post(\"https://api.openai.com/v1/chat/completions\", headers=headers, json=payload).json()\n",
    "    print(response)\n",
    "    if 'error' in response.keys():\n",
    "        if response['error']['message'] != 'Your input image may contain content that is not allowed by our safety system.':\n",
    "            print('Error')\n",
    "            break\n",
    "        else:\n",
    "            print('Error but continue')\n",
    "\n",
    "    responses.append(response)\n",
    "    print('Waiting 5 second...')\n",
    "    time.sleep(5) # Added time to avoid the API to block us\n",
    "\n",
    "dict_responses = {'question': prompt, 'responses': responses}\n",
    "# We recomend to save the responses in a pickle file\n",
    "# pickle.dump(dict_responses, open(r'path/to/save/responses', 'wb'))"
   ]
  },
  {
   "cell_type": "code",
   "execution_count": null,
   "metadata": {},
   "outputs": [],
   "source": [
    "dict_responses"
   ]
  }
 ],
 "metadata": {
  "kernelspec": {
   "display_name": "FR0",
   "language": "python",
   "name": "python3"
  },
  "language_info": {
   "codemirror_mode": {
    "name": "ipython",
    "version": 3
   },
   "file_extension": ".py",
   "mimetype": "text/x-python",
   "name": "python",
   "nbconvert_exporter": "python",
   "pygments_lexer": "ipython3",
   "version": "3.10.11"
  }
 },
 "nbformat": 4,
 "nbformat_minor": 2
}
